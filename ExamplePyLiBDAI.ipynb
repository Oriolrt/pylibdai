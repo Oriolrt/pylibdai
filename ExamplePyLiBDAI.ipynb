{
 "nbformat": 4,
 "nbformat_minor": 0,
 "metadata": {
  "colab": {
   "provenance": [],
   "mount_file_id": "1-ZfD91JCcmU7qeRJJgGqfrqkLwDbBteF",
   "authorship_tag": "ABX9TyPLOIyyrD7shs5maAhFGA3v",
   "include_colab_link": true
  },
  "kernelspec": {
   "name": "python3",
   "display_name": "Python 3 (ipykernel)",
   "language": "python"
  },
  "language_info": {
   "name": "python"
  }
 },
 "cells": [
  {
   "cell_type": "markdown",
   "metadata": {
    "id": "view-in-github",
    "colab_type": "text"
   },
   "source": [
    "<a href=\"https://colab.research.google.com/github/Oriolrt/pylibdai/blob/master/ExamplePyLiBDAI.ipynb\" target=\"_parent\"><img src=\"https://colab.research.google.com/assets/colab-badge.svg\" alt=\"Open In Colab\"/></a>"
   ]
  },
  {
   "cell_type": "code",
   "source": [
    "!apt-get install libboost-dev libboost-graph-dev libboost-program-options-dev libboost-test-dev libgmp-dev cimg-dev libboost-program-options-dev"
   ],
   "metadata": {
    "colab": {
     "base_uri": "https://localhost:8080/"
    },
    "id": "YpjbiNV2YrEc",
    "outputId": "da377b77-12ba-43a2-85c0-59215a108df2",
    "collapsed": true,
    "jupyter": {
     "is_executing": true
    }
   },
   "outputs": [],
   "execution_count": null
  },
  {
   "cell_type": "code",
   "source": [
    "!pip install git+https://github.com/Oriolrt/pylibdai.git"
   ],
   "metadata": {
    "colab": {
     "base_uri": "https://localhost:8080/"
    },
    "id": "lf_CHI2sSwgK",
    "outputId": "9c0a4497-747d-4393-e922-82f1f5d5fc23",
    "collapsed": true,
    "ExecuteTime": {
     "end_time": "2024-08-27T08:13:23.585490Z",
     "start_time": "2024-08-27T08:13:03.129386Z"
    }
   },
   "outputs": [
    {
     "name": "stdout",
     "output_type": "stream",
     "text": [
      "Collecting git+https://github.com/Oriolrt/pylibdai.git\r\n",
      "  Cloning https://github.com/Oriolrt/pylibdai.git to /tmp/pip-req-build-ark73ccg\r\n",
      "  Running command git clone --filter=blob:none --quiet https://github.com/Oriolrt/pylibdai.git /tmp/pip-req-build-ark73ccg\r\n",
      "  Resolved https://github.com/Oriolrt/pylibdai.git to commit a1dbe5019b7f5b1053de5163d5336b9f2d598aec\r\n",
      "  Preparing metadata (setup.py) ... \u001B[?25ldone\r\n",
      "\u001B[?25hBuilding wheels for collected packages: dai\r\n",
      "  Building wheel for dai (setup.py) ... \u001B[?25ldone\r\n",
      "\u001B[?25h  Created wheel for dai: filename=dai-1.0-cp310-cp310-linux_x86_64.whl size=13297388 sha256=fa80e59a681578dcf3c2e5c8765f331543984c47e176a3ae2c5006d8d66fcb26\r\n",
      "  Stored in directory: /tmp/pip-ephem-wheel-cache-x8zg3lfr/wheels/c6/3a/76/a03a8a4032820b42942bec88652393c5ea0464dcb3f687bcf3\r\n",
      "Successfully built dai\r\n",
      "Installing collected packages: dai\r\n",
      "Successfully installed dai-1.0\r\n"
     ]
    }
   ],
   "execution_count": 1
  },
  {
   "cell_type": "code",
   "source": [
    "import numpy as np\n",
    "import dai\n",
    "\n"
   ],
   "metadata": {
    "id": "UTLwpMTH-qQ3",
    "ExecuteTime": {
     "end_time": "2024-08-27T08:14:45.782903Z",
     "start_time": "2024-08-27T08:14:45.662452Z"
    }
   },
   "outputs": [],
   "execution_count": 2
  },
  {
   "cell_type": "code",
   "source": [
    "# Note:\n",
    "# The indexing for input and output arrays is Fortan-style by default for notational convenience\n",
    "# If you prefer C-style indexing and want to reverse the indexes yourself, specify order='C'\n",
    "\n",
    "# build the graph\n",
    "factors = []\n",
    "\n",
    "member = [0]\n",
    "prob = np.array([0.4, 0.6])\n",
    "factors.append((member, prob))\n",
    "\n",
    "member = [1]\n",
    "prob = np.array([0.6, 0.4])\n",
    "factors.append((member, prob))\n",
    "\n",
    "member = [0, 1]\n",
    "prob = np.array([0.1, 0.7, 0.1, 0.1]).reshape(2, 2)\n",
    "factors.append((member, prob))\n",
    "\n"
   ],
   "metadata": {
    "id": "NpGta1kN3bjn",
    "ExecuteTime": {
     "end_time": "2024-08-27T08:14:48.054504Z",
     "start_time": "2024-08-27T08:14:48.042076Z"
    }
   },
   "outputs": [],
   "execution_count": 3
  },
  {
   "cell_type": "code",
   "source": [
    "# do inference\n",
    "props = {'inference': 'SUMPROD', 'updates': 'SEQMAX', 'tol': '1e-6', 'maxiter': '100', 'logdomain': '0'}\n",
    "varsets = [[0], [0, 1]]\n",
    "qv, qf, qmap,logz, maxdiff, margs = dai.dai(factors, varsets, 'BP', props, order='F',with_logz=True,with_beliefs=True)\n",
    "\n"
   ],
   "metadata": {
    "id": "LpyV8Mh_3j35",
    "ExecuteTime": {
     "end_time": "2024-08-27T08:14:50.842205Z",
     "start_time": "2024-08-27T08:14:50.829996Z"
    }
   },
   "outputs": [],
   "execution_count": 4
  },
  {
   "cell_type": "code",
   "source": [
    "# print the output\n",
    "print('LogZ = %.4f' % logz)\n",
    "print('')\n",
    "\n",
    "\n",
    "print('MaxDiff = %.4f' % maxdiff)\n",
    "print('')\n",
    "\n",
    "print('Beliefs for varsets:')\n",
    "for member, prob in margs:\n",
    "    print('Member: %s\\nProb: %s' % (member, prob))\n",
    "print('')\n",
    "\n",
    "print('Variable beliefs:')\n",
    "for member, prob in qv:\n",
    "    print('Member: %s\\nProb: %s' % (member, prob))\n",
    "print('')\n",
    "\n",
    "print('Factor beliefs:')\n",
    "for member, prob in qf:\n",
    "    print('Member: %s\\nProb: %s' % (member, prob))\n",
    "print('')\n",
    "\n",
    "print('Map state = %s' % qmap)\n",
    "print('')\n"
   ],
   "metadata": {
    "colab": {
     "base_uri": "https://localhost:8080/"
    },
    "id": "GpfBUcVs3nPQ",
    "outputId": "5b2f923b-f4c1-4355-ccee-b3a725ab0808",
    "ExecuteTime": {
     "end_time": "2024-08-27T08:15:06.197744Z",
     "start_time": "2024-08-27T08:15:06.184625Z"
    }
   },
   "outputs": [
    {
     "name": "stdout",
     "output_type": "stream",
     "text": [
      "LogZ = -1.6296\n",
      "\n",
      "MaxDiff = 0.0000\n",
      "\n",
      "Beliefs for varsets:\n",
      "Member: [0]\n",
      "Prob: [0.69387755 0.30612245]\n",
      "Member: [0 1]\n",
      "Prob: [[0.12244898 0.57142857]\n",
      " [0.18367347 0.12244898]]\n",
      "\n",
      "Variable beliefs:\n",
      "Member: [0]\n",
      "Prob: [0.69387755 0.30612245]\n",
      "Member: [1]\n",
      "Prob: [0.30612245 0.69387755]\n",
      "\n",
      "Factor beliefs:\n",
      "Member: [0]\n",
      "Prob: [0.69387755 0.30612245]\n",
      "Member: [1]\n",
      "Prob: [0.30612245 0.69387755]\n",
      "Member: [0 1]\n",
      "Prob: [[0.12244898 0.57142857]\n",
      " [0.18367347 0.12244898]]\n",
      "\n",
      "Map state = [0. 1.]\n",
      "\n"
     ]
    }
   ],
   "execution_count": 6
  },
  {
   "metadata": {},
   "cell_type": "code",
   "outputs": [],
   "execution_count": null,
   "source": ""
  }
 ]
}
