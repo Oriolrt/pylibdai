{
  "nbformat": 4,
  "nbformat_minor": 0,
  "metadata": {
    "colab": {
      "provenance": [],
      "mount_file_id": "1-ZfD91JCcmU7qeRJJgGqfrqkLwDbBteF",
      "authorship_tag": "ABX9TyPLOIyyrD7shs5maAhFGA3v",
      "include_colab_link": true
    },
    "kernelspec": {
      "name": "python3",
      "display_name": "Python 3"
    },
    "language_info": {
      "name": "python"
    }
  },
  "cells": [
    {
      "cell_type": "markdown",
      "metadata": {
        "id": "view-in-github",
        "colab_type": "text"
      },
      "source": [
        "<a href=\"https://colab.research.google.com/github/Oriolrt/pylibdai/blob/master/ExamplePyLiBDAI.ipynb\" target=\"_parent\"><img src=\"https://colab.research.google.com/assets/colab-badge.svg\" alt=\"Open In Colab\"/></a>"
      ]
    },
    {
      "cell_type": "code",
      "source": [
        "!apt-get install libboost-dev libboost-graph-dev libboost-program-options-dev libboost-test-dev libgmp-dev cimg-dev libboost-program-options-dev"
      ],
      "metadata": {
        "colab": {
          "base_uri": "https://localhost:8080/"
        },
        "id": "YpjbiNV2YrEc",
        "outputId": "da377b77-12ba-43a2-85c0-59215a108df2",
        "collapsed": true
      },
      "execution_count": 7,
      "outputs": [
        {
          "output_type": "stream",
          "name": "stdout",
          "text": [
            "Reading package lists... Done\n",
            "Building dependency tree... Done\n",
            "Reading state information... Done\n",
            "libboost-dev is already the newest version (1.74.0.3ubuntu7).\n",
            "libboost-dev set to manually installed.\n",
            "libboost-program-options-dev is already the newest version (1.74.0.3ubuntu7).\n",
            "libboost-program-options-dev set to manually installed.\n",
            "libboost-graph-dev is already the newest version (1.74.0.3ubuntu7).\n",
            "libboost-graph-dev set to manually installed.\n",
            "libboost-test-dev is already the newest version (1.74.0.3ubuntu7).\n",
            "libboost-test-dev set to manually installed.\n",
            "The following additional packages will be installed:\n",
            "  libgmpxx4ldbl libxrandr-dev\n",
            "Suggested packages:\n",
            "  xmedcon lapack3-dev cimg-doc cimg-examples libgraphicsmagick++1-dev | libmagick++-dev\n",
            "  libfftw3-dev | fftw3-dev libgimp2.0-dev libhighgui-dev libtiff5-dev gmp-doc libgmp10-doc\n",
            "  libmpfr-dev\n",
            "The following NEW packages will be installed:\n",
            "  cimg-dev libgmp-dev libgmpxx4ldbl libxrandr-dev\n",
            "0 upgraded, 4 newly installed, 0 to remove and 45 not upgraded.\n",
            "Need to get 900 kB of archives.\n",
            "After this operation, 7,239 kB of additional disk space will be used.\n",
            "Get:1 http://archive.ubuntu.com/ubuntu jammy/main amd64 libxrandr-dev amd64 2:1.5.2-1build1 [26.7 kB]\n",
            "Get:2 http://archive.ubuntu.com/ubuntu jammy/universe amd64 cimg-dev all 2.9.4+dfsg-3 [527 kB]\n",
            "Get:3 http://archive.ubuntu.com/ubuntu jammy/main amd64 libgmpxx4ldbl amd64 2:6.2.1+dfsg-3ubuntu1 [9,580 B]\n",
            "Get:4 http://archive.ubuntu.com/ubuntu jammy/main amd64 libgmp-dev amd64 2:6.2.1+dfsg-3ubuntu1 [337 kB]\n",
            "Fetched 900 kB in 0s (3,588 kB/s)\n",
            "Selecting previously unselected package libxrandr-dev:amd64.\n",
            "(Reading database ... 123595 files and directories currently installed.)\n",
            "Preparing to unpack .../libxrandr-dev_2%3a1.5.2-1build1_amd64.deb ...\n",
            "Unpacking libxrandr-dev:amd64 (2:1.5.2-1build1) ...\n",
            "Selecting previously unselected package cimg-dev.\n",
            "Preparing to unpack .../cimg-dev_2.9.4+dfsg-3_all.deb ...\n",
            "Unpacking cimg-dev (2.9.4+dfsg-3) ...\n",
            "Selecting previously unselected package libgmpxx4ldbl:amd64.\n",
            "Preparing to unpack .../libgmpxx4ldbl_2%3a6.2.1+dfsg-3ubuntu1_amd64.deb ...\n",
            "Unpacking libgmpxx4ldbl:amd64 (2:6.2.1+dfsg-3ubuntu1) ...\n",
            "Selecting previously unselected package libgmp-dev:amd64.\n",
            "Preparing to unpack .../libgmp-dev_2%3a6.2.1+dfsg-3ubuntu1_amd64.deb ...\n",
            "Unpacking libgmp-dev:amd64 (2:6.2.1+dfsg-3ubuntu1) ...\n",
            "Setting up libxrandr-dev:amd64 (2:1.5.2-1build1) ...\n",
            "Setting up libgmpxx4ldbl:amd64 (2:6.2.1+dfsg-3ubuntu1) ...\n",
            "Setting up cimg-dev (2.9.4+dfsg-3) ...\n",
            "Setting up libgmp-dev:amd64 (2:6.2.1+dfsg-3ubuntu1) ...\n",
            "Processing triggers for man-db (2.10.2-1) ...\n",
            "Processing triggers for libc-bin (2.35-0ubuntu3.4) ...\n",
            "/sbin/ldconfig.real: /usr/local/lib/libtbbbind.so.3 is not a symbolic link\n",
            "\n",
            "/sbin/ldconfig.real: /usr/local/lib/libtbb.so.12 is not a symbolic link\n",
            "\n",
            "/sbin/ldconfig.real: /usr/local/lib/libtbbmalloc_proxy.so.2 is not a symbolic link\n",
            "\n",
            "/sbin/ldconfig.real: /usr/local/lib/libur_adapter_level_zero.so.0 is not a symbolic link\n",
            "\n",
            "/sbin/ldconfig.real: /usr/local/lib/libur_adapter_opencl.so.0 is not a symbolic link\n",
            "\n",
            "/sbin/ldconfig.real: /usr/local/lib/libur_loader.so.0 is not a symbolic link\n",
            "\n",
            "/sbin/ldconfig.real: /usr/local/lib/libtbbbind_2_5.so.3 is not a symbolic link\n",
            "\n",
            "/sbin/ldconfig.real: /usr/local/lib/libtbbmalloc.so.2 is not a symbolic link\n",
            "\n",
            "/sbin/ldconfig.real: /usr/local/lib/libtbbbind_2_0.so.3 is not a symbolic link\n",
            "\n"
          ]
        }
      ]
    },
    {
      "cell_type": "code",
      "source": [
        "!pip install git+https://github.com/Oriolrt/pylibdai.git"
      ],
      "metadata": {
        "colab": {
          "base_uri": "https://localhost:8080/"
        },
        "id": "lf_CHI2sSwgK",
        "outputId": "9c0a4497-747d-4393-e922-82f1f5d5fc23",
        "collapsed": true
      },
      "execution_count": 8,
      "outputs": [
        {
          "output_type": "stream",
          "name": "stdout",
          "text": [
            "Collecting git+https://github.com/Oriolrt/pylibdai.git\n",
            "  Cloning https://github.com/Oriolrt/pylibdai.git to /tmp/pip-req-build-tyi05aj_\n",
            "  Running command git clone --filter=blob:none --quiet https://github.com/Oriolrt/pylibdai.git /tmp/pip-req-build-tyi05aj_\n",
            "  Resolved https://github.com/Oriolrt/pylibdai.git to commit 0e9100c0e9f676765aa8a1b1d23262c534de7c3a\n",
            "  Preparing metadata (setup.py) ... \u001b[?25l\u001b[?25hdone\n",
            "Requirement already satisfied: numpy in /usr/local/lib/python3.10/dist-packages (from dai==1.0) (1.26.4)\n",
            "Requirement already satisfied: cython in /usr/local/lib/python3.10/dist-packages (from dai==1.0) (3.0.11)\n",
            "Building wheels for collected packages: dai\n",
            "  Building wheel for dai (setup.py) ... \u001b[?25l\u001b[?25hdone\n",
            "  Created wheel for dai: filename=dai-1.0-cp310-cp310-linux_x86_64.whl size=13744578 sha256=0120b0547cc850c45ccc7c31835e8657b83fdfacd4b90f8e2a255efd3c7e0167\n",
            "  Stored in directory: /tmp/pip-ephem-wheel-cache-999w6pnk/wheels/c6/3a/76/a03a8a4032820b42942bec88652393c5ea0464dcb3f687bcf3\n",
            "Successfully built dai\n",
            "Installing collected packages: dai\n",
            "Successfully installed dai-1.0\n"
          ]
        }
      ]
    },
    {
      "cell_type": "code",
      "source": [
        "import numpy as np\n",
        "import dai\n",
        "\n"
      ],
      "metadata": {
        "id": "UTLwpMTH-qQ3"
      },
      "execution_count": 10,
      "outputs": []
    },
    {
      "cell_type": "code",
      "source": [
        "# Note:\n",
        "# The indexing for input and output arrays is Fortan-style by default for notational convenience\n",
        "# If you prefer C-style indexing and want to reverse the indexes yourself, specify order='C'\n",
        "\n",
        "# build the graph\n",
        "factors = []\n",
        "\n",
        "member = [0]\n",
        "prob = np.array([0.4, 0.6])\n",
        "factors.append((member, prob))\n",
        "\n",
        "member = [1]\n",
        "prob = np.array([0.6, 0.4])\n",
        "factors.append((member, prob))\n",
        "\n",
        "member = [0, 1]\n",
        "prob = np.array([0.1, 0.7, 0.1, 0.1]).reshape(2, 2)\n",
        "factors.append((member, prob))\n",
        "\n"
      ],
      "metadata": {
        "id": "NpGta1kN3bjn"
      },
      "execution_count": 11,
      "outputs": []
    },
    {
      "cell_type": "code",
      "source": [
        "# do inference\n",
        "props = {'inference': 'SUMPROD', 'updates': 'SEQMAX', 'tol': '1e-6', 'maxiter': '100', 'logdomain': '0'}\n",
        "varsets = [[0], [0, 1]]\n",
        "logz, q, maxdiff, margs, qv, qf, qmap = dai.dai(factors, varsets, 'BP', props, order='F')\n",
        "\n"
      ],
      "metadata": {
        "id": "LpyV8Mh_3j35"
      },
      "execution_count": 12,
      "outputs": []
    },
    {
      "cell_type": "code",
      "source": [
        "# print the output\n",
        "print('LogZ = %.4f' % logz)\n",
        "print('')\n",
        "\n",
        "print('All beliefs:')\n",
        "for member, prob in q:\n",
        "    print('Member: %s\\nProb: %s' % (member, prob))\n",
        "print('')\n",
        "\n",
        "print('MaxDiff = %.4f' % maxdiff)\n",
        "print('')\n",
        "\n",
        "print('Beliefs for varsets:')\n",
        "for member, prob in margs:\n",
        "    print('Member: %s\\nProb: %s' % (member, prob))\n",
        "print('')\n",
        "\n",
        "print('Variable beliefs:')\n",
        "for member, prob in qv:\n",
        "    print('Member: %s\\nProb: %s' % (member, prob))\n",
        "print('')\n",
        "\n",
        "print('Factor beliefs:')\n",
        "for member, prob in qf:\n",
        "    print('Member: %s\\nProb: %s' % (member, prob))\n",
        "print('')\n",
        "\n",
        "print('Map state = %s' % qmap)\n",
        "print('')\n"
      ],
      "metadata": {
        "colab": {
          "base_uri": "https://localhost:8080/"
        },
        "id": "GpfBUcVs3nPQ",
        "outputId": "5b2f923b-f4c1-4355-ccee-b3a725ab0808"
      },
      "execution_count": 13,
      "outputs": [
        {
          "output_type": "stream",
          "name": "stdout",
          "text": [
            "LogZ = -1.6296\n",
            "\n",
            "All beliefs:\n",
            "Member: [0]\n",
            "Prob: [0.69387755 0.30612245]\n",
            "Member: [1]\n",
            "Prob: [0.30612245 0.69387755]\n",
            "Member: [0]\n",
            "Prob: [0.69387755 0.30612245]\n",
            "Member: [1]\n",
            "Prob: [0.30612245 0.69387755]\n",
            "Member: [0 1]\n",
            "Prob: [[0.12244898 0.57142857]\n",
            " [0.18367347 0.12244898]]\n",
            "\n",
            "MaxDiff = 0.0000\n",
            "\n",
            "Beliefs for varsets:\n",
            "Member: [0]\n",
            "Prob: [0.69387755 0.30612245]\n",
            "Member: [0 1]\n",
            "Prob: [[0.12244898 0.57142857]\n",
            " [0.18367347 0.12244898]]\n",
            "\n",
            "Variable beliefs:\n",
            "Member: [0]\n",
            "Prob: [0.69387755 0.30612245]\n",
            "Member: [1]\n",
            "Prob: [0.30612245 0.69387755]\n",
            "\n",
            "Factor beliefs:\n",
            "Member: [0]\n",
            "Prob: [0.69387755 0.30612245]\n",
            "Member: [1]\n",
            "Prob: [0.30612245 0.69387755]\n",
            "Member: [0 1]\n",
            "Prob: [[0.12244898 0.57142857]\n",
            " [0.18367347 0.12244898]]\n",
            "\n",
            "Map state = [0. 1.]\n",
            "\n"
          ]
        }
      ]
    }
  ]
}